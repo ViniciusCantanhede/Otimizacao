{
  "nbformat": 4,
  "nbformat_minor": 0,
  "metadata": {
    "colab": {
      "provenance": []
    },
    "kernelspec": {
      "name": "python3",
      "display_name": "Python 3"
    },
    "language_info": {
      "name": "python"
    }
  },
  "cells": [
    {
      "cell_type": "markdown",
      "source": [
        "##Newton Raphson\n",
        "O método Newton-Raphson é uma técnica iterativa para encontrar raízes de uma **equação não linear**. Ele utiliza um reta tangente em um ponto e então, tenta econtrar o ponto onde essa reta intersecta o eixo X, ou seja, onde a função é zero.\n",
        "\n",
        "- **Cálculo passo a passo:**\n",
        "\n",
        "1) **Escolher um ponto inicial:** O algoritmo começa com um valor incial $x0$. Este valor pode ser escolhido arbitrariamente, desde que seja próximo da raiz desejada.\n",
        "\n",
        "2) **Iteração:** Em cada iteração do algoritmo, calcula-se a nova estimativa $x_k$ para a raiz da equação. A formula é dada por:\n",
        "\n",
        "$x_{k+1} = x_k - \\frac{f(x_k)}{f'(k_n)}$\n",
        "\n",
        "Onde:\n",
        "\n",
        "- $f(x_k)$ é o valor da função no ponto $(x_k)$\n",
        "\n",
        "- $f'(x_k)$ é o valor da derivada da função no ponto $(x_k)$\n",
        "\n",
        "Essa fórmula é derivada da equação da reta tangente a função no ponto $x_k$, onde $f'(x_k)$ é o coeficiente angular dessa reta e $- \\frac{f(k_n)}{f'(k_n)}$ é a equação da reta em si.\n",
        "\n",
        "\n",
        "3) **Critérios de parada:** O algoritmo continua iterando até que uma das condições de parada seja atingida. As condições de parada incluem:\n",
        "- O valor de $f(x_k)$ é suficientemente próximo a zero (ou seja, $|f(x_k)| < \\text{tolerância}\n",
        "$).\n",
        "\n",
        "- O número máximo de iterações é atingido.\n",
        "- A derivada da função se torna zero, que indica uma possível instabilidade na iteração.\n",
        "\n",
        "4) **Retorno:** Quando uma das condições de parada é atingida, o algoritmo retorna uma estimativa $x_k$ como raiz aproximada da equação.\n",
        "\n",
        "--------------\n",
        "\n",
        "Partindo para exemplos reais podemos calcular algumas raízes de função com o método Newton Raphson.\n",
        "\n",
        "- A) Usando Newton-Raphson, calcule:\n",
        "$ f(x) = \\sqrt 10 $\n",
        "\n",
        "Primeiro derivamos em relação a $x$:\n",
        "\n",
        "$ x = \\sqrt 10 $\n",
        "\n",
        "$ x^2 = \\sqrt 10 $\n",
        "\n",
        "$ x^2 - 10 = 0 $\n",
        "\n",
        "Após derivarmos podemos jogar na fórmula:\n",
        "\n",
        "- Newton-Raphson:\n",
        "$x_{k+1} = x_k - \\frac{f(x_k)}{f'(x_k)}$\n",
        "\n",
        "-\n",
        "-\n",
        "-\n",
        "\n",
        "$ ? = x - \\frac{(x^2) - 10}{(2x)}$\n",
        "\n",
        "Aqui escolhemos um número para começar a iteração, o escolhido foi 1\n",
        "\n",
        "$ 1 \\frac{(1^2) - 10}{(2 * 1)} = 5.5$\n",
        "\n",
        "$ 5.5 \\frac{(5.5^2) - 10}{(2 * 5.5)} = 3.66$\n",
        "\n",
        "$3.66 \\frac{(3.66^2) - 10}{(2 * 3.66)} = 3.2$\n",
        "\n",
        "$ 3.2 \\frac{(3.22^2) - 10}{(2 * 3.22)} = 3.1625$\n",
        "\n",
        "Veja que para cada iteração o nosso $x_k$ anterior itera com a próxima função até encontrar a a menor raiz.\n",
        "\n",
        "\n",
        "- B) Agora, usando o Python calcule a raiz de:\n",
        "$ x^4 - 2x^3 + 2x - 2 = 0$"
      ],
      "metadata": {
        "id": "O1gUx3GLnriM"
      }
    },
    {
      "cell_type": "markdown",
      "source": [
        "##Mini calculadora de derivadas"
      ],
      "metadata": {
        "id": "1SPi3keXwgNu"
      }
    },
    {
      "cell_type": "code",
      "execution_count": 4,
      "metadata": {
        "colab": {
          "base_uri": "https://localhost:8080/"
        },
        "id": "fa1rbO5Zna63",
        "outputId": "a8d29c8f-2bd6-4ca5-b0ff-3b3441ccfc22"
      },
      "outputs": [
        {
          "output_type": "stream",
          "name": "stdout",
          "text": [
            "Calculadora de Derivadas\n",
            "------------------------\n",
            "Função fornecida: f(x) = x**4 - 2*x**3 + 2*x - 2\n",
            "A derivada da função em relação a x é: 4*x**3 - 6*x**2 + 2\n"
          ]
        }
      ],
      "source": [
        "from sympy import symbols, diff\n",
        "\n",
        "def calcular_derivada(expressao):\n",
        "    # Criar o símbolo x\n",
        "    x = symbols('x')\n",
        "\n",
        "    try:\n",
        "        # Calcular a derivada da expressão em relação a x\n",
        "        derivada = diff(expressao, x)\n",
        "\n",
        "        # Exibir a derivada calculada\n",
        "        print(\"A derivada da função em relação a x é:\", derivada)\n",
        "\n",
        "    except:\n",
        "        print(\"Erro ao calcular a derivada.\")\n",
        "\n",
        "# Função principal\n",
        "def main():\n",
        "    print(\"Calculadora de Derivadas\")\n",
        "    print(\"------------------------\")\n",
        "    expressao = \"x**4 - 2*x**3 + 2*x - 2\"\n",
        "    print(\"Função fornecida: f(x) =\", expressao)\n",
        "    calcular_derivada(expressao)\n",
        "\n",
        "if __name__ == \"__main__\":\n",
        "    main()\n"
      ]
    },
    {
      "cell_type": "markdown",
      "source": [
        "##Função para calcular Newton Raphson"
      ],
      "metadata": {
        "id": "1a8UKzvz1AMk"
      }
    },
    {
      "cell_type": "code",
      "source": [
        "def newton_raphson(f, f_prime, x0, tol=1e-6, max_iter=100):\n",
        "    x = x0\n",
        "    for i in range(max_iter):\n",
        "        fx = f(x)\n",
        "        fx_prime = f_prime(x)\n",
        "\n",
        "        if abs(fx) < tol:\n",
        "            return x\n",
        "\n",
        "        if fx_prime == 0:\n",
        "            break\n",
        "\n",
        "        x -= fx / fx_prime\n",
        "\n",
        "    return None\n",
        "\n",
        "def equation(x):\n",
        "    return x**4 - 2*x**3 + 2*x - 2\n",
        "\n",
        "def equation_derivative(x):\n",
        "    return 4*x**3 - 6*x**2 + 2\n",
        "\n",
        "root = newton_raphson(equation, equation_derivative, 2)\n",
        "\n",
        "if root is not None:\n",
        "    print(\"A raiz da equação é:\", root)\n",
        "else:\n",
        "    print(\"Não foi possível encontrar a raiz.\")"
      ],
      "metadata": {
        "colab": {
          "base_uri": "https://localhost:8080/"
        },
        "id": "TfQzc0HcyfFV",
        "outputId": "558d54df-e0a0-473f-e975-7c465e4ed6a4"
      },
      "execution_count": 7,
      "outputs": [
        {
          "output_type": "stream",
          "name": "stdout",
          "text": [
            "A raiz da equação é: 1.716672785394999\n"
          ]
        }
      ]
    },
    {
      "cell_type": "markdown",
      "source": [
        "##Raiz aproximada encontrada pelo método Newton Raphson"
      ],
      "metadata": {
        "id": "ftSENw5311ZE"
      }
    },
    {
      "cell_type": "code",
      "source": [
        "import numpy as np\n",
        "import matplotlib.pyplot as plt\n",
        "x_values = np.linspace(0, 3, 400)\n",
        "y_values = equation(x_values)\n",
        "\n",
        "plt.figure(figsize=(10, 6))\n",
        "plt.plot(x_values, y_values, label='Equação')\n",
        "plt.scatter(root, equation(root), color='red', label='Raiz da equação')\n",
        "plt.title('Gráfico da Equação e Raiz Aproximada')\n",
        "plt.xlabel('x')\n",
        "plt.ylabel('f(x)')\n",
        "plt.legend()\n",
        "plt.grid(True)\n",
        "plt.show()"
      ],
      "metadata": {
        "colab": {
          "base_uri": "https://localhost:8080/",
          "height": 565
        },
        "id": "P3SY5XIwz-Mu",
        "outputId": "d4acef48-a9a3-4cb3-b5a0-aab2c0c933e5"
      },
      "execution_count": 8,
      "outputs": [
        {
          "output_type": "display_data",
          "data": {
            "text/plain": [
              "<Figure size 1000x600 with 1 Axes>"
            ],
            "image/png": "[encoded data removed]"
          },
          "metadata": {}
        }
      ]
    }
  ]
}