{
  "nbformat": 4,
  "nbformat_minor": 0,
  "metadata": {
    "colab": {
      "provenance": []
    },
    "kernelspec": {
      "name": "python3",
      "display_name": "Python 3"
    },
    "language_info": {
      "name": "python"
    }
  },
  "cells": [
    {
      "cell_type": "code",
      "execution_count": null,
      "metadata": {
        "id": "cl73IIVBfI5J"
      },
      "outputs": [],
      "source": [
        "import pandas as pd\n",
        "import numpy as np\n",
        "from sklearn.linear_model import LinearRegression"
      ]
    },
    {
      "cell_type": "markdown",
      "source": [
        "## https://cayan-portela.github.io/unb-ds/otimiza%C3%A7%C3%A3o.html"
      ],
      "metadata": {
        "id": "u9O3TjFP3NCs"
      }
    },
    {
      "cell_type": "code",
      "source": [
        "dados = pd.read_csv(\"/content/drive/MyDrive/Otimização/mtcars.csv\")\n",
        "dados"
      ],
      "metadata": {
        "colab": {
          "base_uri": "https://localhost:8080/",
          "height": 1000
        },
        "id": "gPj_8H3ufk0Z",
        "outputId": "52c337d1-3a56-492f-8345-2b7b515a9f9f"
      },
      "execution_count": null,
      "outputs": [
        {
          "output_type": "execute_result",
          "data": {
            "text/plain": [
              "                    car   mpg  cyl   disp   hp  drat     wt   qsec  vs  am  \\\n",
              "0             Mazda RX4  21.0    6  160.0  110  3.90  2.620  16.46   0   1   \n",
              "1         Mazda RX4 Wag  21.0    6  160.0  110  3.90  2.875  17.02   0   1   \n",
              "2            Datsun 710  22.8    4  108.0   93  3.85  2.320  18.61   1   1   \n",
              "3        Hornet 4 Drive  21.4    6  258.0  110  3.08  3.215  19.44   1   0   \n",
              "4     Hornet Sportabout  18.7    8  360.0  175  3.15  3.440  17.02   0   0   \n",
              "5               Valiant  18.1    6  225.0  105  2.76  3.460  20.22   1   0   \n",
              "6            Duster 360  14.3    8  360.0  245  3.21  3.570  15.84   0   0   \n",
              "7             Merc 240D  24.4    4  146.7   62  3.69  3.190  20.00   1   0   \n",
              "8              Merc 230  22.8    4  140.8   95  3.92  3.150  22.90   1   0   \n",
              "9              Merc 280  19.2    6  167.6  123  3.92  3.440  18.30   1   0   \n",
              "10            Merc 280C  17.8    6  167.6  123  3.92  3.440  18.90   1   0   \n",
              "11           Merc 450SE  16.4    8  275.8  180  3.07  4.070  17.40   0   0   \n",
              "12           Merc 450SL  17.3    8  275.8  180  3.07  3.730  17.60   0   0   \n",
              "13          Merc 450SLC  15.2    8  275.8  180  3.07  3.780  18.00   0   0   \n",
              "14   Cadillac Fleetwood  10.4    8  472.0  205  2.93  5.250  17.98   0   0   \n",
              "15  Lincoln Continental  10.4    8  460.0  215  3.00  5.424  17.82   0   0   \n",
              "16    Chrysler Imperial  14.7    8  440.0  230  3.23  5.345  17.42   0   0   \n",
              "17             Fiat 128  32.4    4   78.7   66  4.08  2.200  19.47   1   1   \n",
              "18          Honda Civic  30.4    4   75.7   52  4.93  1.615  18.52   1   1   \n",
              "19       Toyota Corolla  33.9    4   71.1   65  4.22  1.835  19.90   1   1   \n",
              "20        Toyota Corona  21.5    4  120.1   97  3.70  2.465  20.01   1   0   \n",
              "21     Dodge Challenger  15.5    8  318.0  150  2.76  3.520  16.87   0   0   \n",
              "22          AMC Javelin  15.2    8  304.0  150  3.15  3.435  17.30   0   0   \n",
              "23           Camaro Z28  13.3    8  350.0  245  3.73  3.840  15.41   0   0   \n",
              "24     Pontiac Firebird  19.2    8  400.0  175  3.08  3.845  17.05   0   0   \n",
              "25            Fiat X1-9  27.3    4   79.0   66  4.08  1.935  18.90   1   1   \n",
              "26        Porsche 914-2  26.0    4  120.3   91  4.43  2.140  16.70   0   1   \n",
              "27         Lotus Europa  30.4    4   95.1  113  3.77  1.513  16.90   1   1   \n",
              "28       Ford Pantera L  15.8    8  351.0  264  4.22  3.170  14.50   0   1   \n",
              "29         Ferrari Dino  19.7    6  145.0  175  3.62  2.770  15.50   0   1   \n",
              "30        Maserati Bora  15.0    8  301.0  335  3.54  3.570  14.60   0   1   \n",
              "31           Volvo 142E  21.4    4  121.0  109  4.11  2.780  18.60   1   1   \n",
              "\n",
              "    gear  carb  \n",
              "0      4     4  \n",
              "1      4     4  \n",
              "2      4     1  \n",
              "3      3     1  \n",
              "4      3     2  \n",
              "5      3     1  \n",
              "6      3     4  \n",
              "7      4     2  \n",
              "8      4     2  \n",
              "9      4     4  \n",
              "10     4     4  \n",
              "11     3     3  \n",
              "12     3     3  \n",
              "13     3     3  \n",
              "14     3     4  \n",
              "15     3     4  \n",
              "16     3     4  \n",
              "17     4     1  \n",
              "18     4     2  \n",
              "19     4     1  \n",
              "20     3     1  \n",
              "21     3     2  \n",
              "22     3     2  \n",
              "23     3     4  \n",
              "24     3     2  \n",
              "25     4     1  \n",
              "26     5     2  \n",
              "27     5     2  \n",
              "28     5     4  \n",
              "29     5     6  \n",
              "30     5     8  \n",
              "31     4     2  "
            ],
            "text/html": [
              "\n",
              "  <div id=\"df-ab9c7d85-0f15-4c7e-99bf-efa9540647d6\" class=\"colab-df-container\">\n",
              "    <div>\n",
              "<style scoped>\n",
              "    .dataframe tbody tr th:only-of-type {\n",
              "        vertical-align: middle;\n",
              "    }\n",
              "\n",
              "    .dataframe tbody tr th {\n",
              "        vertical-align: top;\n",
              "    }\n",
              "\n",
              "    .dataframe thead th {\n",
              "        text-align: right;\n",
              "    }\n",
              "</style>\n",
              "<table border=\"1\" class=\"dataframe\">\n",
              "  <thead>\n",
              "    <tr style=\"text-align: right;\">\n",
              "      <th></th>\n",
              "      <th>car</th>\n",
              "      <th>mpg</th>\n",
              "      <th>cyl</th>\n",
              "      <th>disp</th>\n",
              "      <th>hp</th>\n",
              "      <th>drat</th>\n",
              "      <th>wt</th>\n",
              "      <th>qsec</th>\n",
              "      <th>vs</th>\n",
              "      <th>am</th>\n",
              "      <th>gear</th>\n",
              "      <th>carb</th>\n",
              "    </tr>\n",
              "  </thead>\n",
              "  <tbody>\n",
              "    <tr>\n",
              "      <th>0</th>\n",
              "      <td>Mazda RX4</td>\n",
              "      <td>21.0</td>\n",
              "      <td>6</td>\n",
              "      <td>160.0</td>\n",
              "      <td>110</td>\n",
              "      <td>3.90</td>\n",
              "      <td>2.620</td>\n",
              "      <td>16.46</td>\n",
              "      <td>0</td>\n",
              "      <td>1</td>\n",
              "      <td>4</td>\n",
              "      <td>4</td>\n",
              "    </tr>\n",
              "    <tr>\n",
              "      <th>1</th>\n",
              "      <td>Mazda RX4 Wag</td>\n",
              "      <td>21.0</td>\n",
              "      <td>6</td>\n",
              "      <td>160.0</td>\n",
              "      <td>110</td>\n",
              "      <td>3.90</td>\n",
              "      <td>2.875</td>\n",
              "      <td>17.02</td>\n",
              "      <td>0</td>\n",
              "      <td>1</td>\n",
              "      <td>4</td>\n",
              "      <td>4</td>\n",
              "    </tr>\n",
              "    <tr>\n",
              "      <th>2</th>\n",
              "      <td>Datsun 710</td>\n",
              "      <td>22.8</td>\n",
              "      <td>4</td>\n",
              "      <td>108.0</td>\n",
              "      <td>93</td>\n",
              "      <td>3.85</td>\n",
              "      <td>2.320</td>\n",
              "      <td>18.61</td>\n",
              "      <td>1</td>\n",
              "      <td>1</td>\n",
              "      <td>4</td>\n",
              "      <td>1</td>\n",
              "    </tr>\n",
              "    <tr>\n",
              "      <th>3</th>\n",
              "      <td>Hornet 4 Drive</td>\n",
              "      <td>21.4</td>\n",
              "      <td>6</td>\n",
              "      <td>258.0</td>\n",
              "      <td>110</td>\n",
              "      <td>3.08</td>\n",
              "      <td>3.215</td>\n",
              "      <td>19.44</td>\n",
              "      <td>1</td>\n",
              "      <td>0</td>\n",
              "      <td>3</td>\n",
              "      <td>1</td>\n",
              "    </tr>\n",
              "    <tr>\n",
              "      <th>4</th>\n",
              "      <td>Hornet Sportabout</td>\n",
              "      <td>18.7</td>\n",
              "      <td>8</td>\n",
              "      <td>360.0</td>\n",
              "      <td>175</td>\n",
              "      <td>3.15</td>\n",
              "      <td>3.440</td>\n",
              "      <td>17.02</td>\n",
              "      <td>0</td>\n",
              "      <td>0</td>\n",
              "      <td>3</td>\n",
              "      <td>2</td>\n",
              "    </tr>\n",
              "    <tr>\n",
              "      <th>5</th>\n",
              "      <td>Valiant</td>\n",
              "      <td>18.1</td>\n",
              "      <td>6</td>\n",
              "      <td>225.0</td>\n",
              "      <td>105</td>\n",
              "      <td>2.76</td>\n",
              "      <td>3.460</td>\n",
              "      <td>20.22</td>\n",
              "      <td>1</td>\n",
              "      <td>0</td>\n",
              "      <td>3</td>\n",
              "      <td>1</td>\n",
              "    </tr>\n",
              "    <tr>\n",
              "      <th>6</th>\n",
              "      <td>Duster 360</td>\n",
              "      <td>14.3</td>\n",
              "      <td>8</td>\n",
              "      <td>360.0</td>\n",
              "      <td>245</td>\n",
              "      <td>3.21</td>\n",
              "      <td>3.570</td>\n",
              "      <td>15.84</td>\n",
              "      <td>0</td>\n",
              "      <td>0</td>\n",
              "      <td>3</td>\n",
              "      <td>4</td>\n",
              "    </tr>\n",
              "    <tr>\n",
              "      <th>7</th>\n",
              "      <td>Merc 240D</td>\n",
              "      <td>24.4</td>\n",
              "      <td>4</td>\n",
              "      <td>146.7</td>\n",
              "      <td>62</td>\n",
              "      <td>3.69</td>\n",
              "      <td>3.190</td>\n",
              "      <td>20.00</td>\n",
              "      <td>1</td>\n",
              "      <td>0</td>\n",
              "      <td>4</td>\n",
              "      <td>2</td>\n",
              "    </tr>\n",
              "    <tr>\n",
              "      <th>8</th>\n",
              "      <td>Merc 230</td>\n",
              "      <td>22.8</td>\n",
              "      <td>4</td>\n",
              "      <td>140.8</td>\n",
              "      <td>95</td>\n",
              "      <td>3.92</td>\n",
              "      <td>3.150</td>\n",
              "      <td>22.90</td>\n",
              "      <td>1</td>\n",
              "      <td>0</td>\n",
              "      <td>4</td>\n",
              "      <td>2</td>\n",
              "    </tr>\n",
              "    <tr>\n",
              "      <th>9</th>\n",
              "      <td>Merc 280</td>\n",
              "      <td>19.2</td>\n",
              "      <td>6</td>\n",
              "      <td>167.6</td>\n",
              "      <td>123</td>\n",
              "      <td>3.92</td>\n",
              "      <td>3.440</td>\n",
              "      <td>18.30</td>\n",
              "      <td>1</td>\n",
              "      <td>0</td>\n",
              "      <td>4</td>\n",
              "      <td>4</td>\n",
              "    </tr>\n",
              "    <tr>\n",
              "      <th>10</th>\n",
              "      <td>Merc 280C</td>\n",
              "      <td>17.8</td>\n",
              "      <td>6</td>\n",
              "      <td>167.6</td>\n",
              "      <td>123</td>\n",
              "      <td>3.92</td>\n",
              "      <td>3.440</td>\n",
              "      <td>18.90</td>\n",
              "      <td>1</td>\n",
              "      <td>0</td>\n",
              "      <td>4</td>\n",
              "      <td>4</td>\n",
              "    </tr>\n",
              "    <tr>\n",
              "      <th>11</th>\n",
              "      <td>Merc 450SE</td>\n",
              "      <td>16.4</td>\n",
              "      <td>8</td>\n",
              "      <td>275.8</td>\n",
              "      <td>180</td>\n",
              "      <td>3.07</td>\n",
              "      <td>4.070</td>\n",
              "      <td>17.40</td>\n",
              "      <td>0</td>\n",
              "      <td>0</td>\n",
              "      <td>3</td>\n",
              "      <td>3</td>\n",
              "    </tr>\n",
              "    <tr>\n",
              "      <th>12</th>\n",
              "      <td>Merc 450SL</td>\n",
              "      <td>17.3</td>\n",
              "      <td>8</td>\n",
              "      <td>275.8</td>\n",
              "      <td>180</td>\n",
              "      <td>3.07</td>\n",
              "      <td>3.730</td>\n",
              "      <td>17.60</td>\n",
              "      <td>0</td>\n",
              "      <td>0</td>\n",
              "      <td>3</td>\n",
              "      <td>3</td>\n",
              "    </tr>\n",
              "    <tr>\n",
              "      <th>13</th>\n",
              "      <td>Merc 450SLC</td>\n",
              "      <td>15.2</td>\n",
              "      <td>8</td>\n",
              "      <td>275.8</td>\n",
              "      <td>180</td>\n",
              "      <td>3.07</td>\n",
              "      <td>3.780</td>\n",
              "      <td>18.00</td>\n",
              "      <td>0</td>\n",
              "      <td>0</td>\n",
              "      <td>3</td>\n",
              "      <td>3</td>\n",
              "    </tr>\n",
              "    <tr>\n",
              "      <th>14</th>\n",
              "      <td>Cadillac Fleetwood</td>\n",
              "      <td>10.4</td>\n",
              "      <td>8</td>\n",
              "      <td>472.0</td>\n",
              "      <td>205</td>\n",
              "      <td>2.93</td>\n",
              "      <td>5.250</td>\n",
              "      <td>17.98</td>\n",
              "      <td>0</td>\n",
              "      <td>0</td>\n",
              "      <td>3</td>\n",
              "      <td>4</td>\n",
              "    </tr>\n",
              "    <tr>\n",
              "      <th>15</th>\n",
              "      <td>Lincoln Continental</td>\n",
              "      <td>10.4</td>\n",
              "      <td>8</td>\n",
              "      <td>460.0</td>\n",
              "      <td>215</td>\n",
              "      <td>3.00</td>\n",
              "      <td>5.424</td>\n",
              "      <td>17.82</td>\n",
              "      <td>0</td>\n",
              "      <td>0</td>\n",
              "      <td>3</td>\n",
              "      <td>4</td>\n",
              "    </tr>\n",
              "    <tr>\n",
              "      <th>16</th>\n",
              "      <td>Chrysler Imperial</td>\n",
              "      <td>14.7</td>\n",
              "      <td>8</td>\n",
              "      <td>440.0</td>\n",
              "      <td>230</td>\n",
              "      <td>3.23</td>\n",
              "      <td>5.345</td>\n",
              "      <td>17.42</td>\n",
              "      <td>0</td>\n",
              "      <td>0</td>\n",
              "      <td>3</td>\n",
              "      <td>4</td>\n",
              "    </tr>\n",
              "    <tr>\n",
              "      <th>17</th>\n",
              "      <td>Fiat 128</td>\n",
              "      <td>32.4</td>\n",
              "      <td>4</td>\n",
              "      <td>78.7</td>\n",
              "      <td>66</td>\n",
              "      <td>4.08</td>\n",
              "      <td>2.200</td>\n",
              "      <td>19.47</td>\n",
              "      <td>1</td>\n",
              "      <td>1</td>\n",
              "      <td>4</td>\n",
              "      <td>1</td>\n",
              "    </tr>\n",
              "    <tr>\n",
              "      <th>18</th>\n",
              "      <td>Honda Civic</td>\n",
              "      <td>30.4</td>\n",
              "      <td>4</td>\n",
              "      <td>75.7</td>\n",
              "      <td>52</td>\n",
              "      <td>4.93</td>\n",
              "      <td>1.615</td>\n",
              "      <td>18.52</td>\n",
              "      <td>1</td>\n",
              "      <td>1</td>\n",
              "      <td>4</td>\n",
              "      <td>2</td>\n",
              "    </tr>\n",
              "    <tr>\n",
              "      <th>19</th>\n",
              "      <td>Toyota Corolla</td>\n",
              "      <td>33.9</td>\n",
              "      <td>4</td>\n",
              "      <td>71.1</td>\n",
              "      <td>65</td>\n",
              "      <td>4.22</td>\n",
              "      <td>1.835</td>\n",
              "      <td>19.90</td>\n",
              "      <td>1</td>\n",
              "      <td>1</td>\n",
              "      <td>4</td>\n",
              "      <td>1</td>\n",
              "    </tr>\n",
              "    <tr>\n",
              "      <th>20</th>\n",
              "      <td>Toyota Corona</td>\n",
              "      <td>21.5</td>\n",
              "      <td>4</td>\n",
              "      <td>120.1</td>\n",
              "      <td>97</td>\n",
              "      <td>3.70</td>\n",
              "      <td>2.465</td>\n",
              "      <td>20.01</td>\n",
              "      <td>1</td>\n",
              "      <td>0</td>\n",
              "      <td>3</td>\n",
              "      <td>1</td>\n",
              "    </tr>\n",
              "    <tr>\n",
              "      <th>21</th>\n",
              "      <td>Dodge Challenger</td>\n",
              "      <td>15.5</td>\n",
              "      <td>8</td>\n",
              "      <td>318.0</td>\n",
              "      <td>150</td>\n",
              "      <td>2.76</td>\n",
              "      <td>3.520</td>\n",
              "      <td>16.87</td>\n",
              "      <td>0</td>\n",
              "      <td>0</td>\n",
              "      <td>3</td>\n",
              "      <td>2</td>\n",
              "    </tr>\n",
              "    <tr>\n",
              "      <th>22</th>\n",
              "      <td>AMC Javelin</td>\n",
              "      <td>15.2</td>\n",
              "      <td>8</td>\n",
              "      <td>304.0</td>\n",
              "      <td>150</td>\n",
              "      <td>3.15</td>\n",
              "      <td>3.435</td>\n",
              "      <td>17.30</td>\n",
              "      <td>0</td>\n",
              "      <td>0</td>\n",
              "      <td>3</td>\n",
              "      <td>2</td>\n",
              "    </tr>\n",
              "    <tr>\n",
              "      <th>23</th>\n",
              "      <td>Camaro Z28</td>\n",
              "      <td>13.3</td>\n",
              "      <td>8</td>\n",
              "      <td>350.0</td>\n",
              "      <td>245</td>\n",
              "      <td>3.73</td>\n",
              "      <td>3.840</td>\n",
              "      <td>15.41</td>\n",
              "      <td>0</td>\n",
              "      <td>0</td>\n",
              "      <td>3</td>\n",
              "      <td>4</td>\n",
              "    </tr>\n",
              "    <tr>\n",
              "      <th>24</th>\n",
              "      <td>Pontiac Firebird</td>\n",
              "      <td>19.2</td>\n",
              "      <td>8</td>\n",
              "      <td>400.0</td>\n",
              "      <td>175</td>\n",
              "      <td>3.08</td>\n",
              "      <td>3.845</td>\n",
              "      <td>17.05</td>\n",
              "      <td>0</td>\n",
              "      <td>0</td>\n",
              "      <td>3</td>\n",
              "      <td>2</td>\n",
              "    </tr>\n",
              "    <tr>\n",
              "      <th>25</th>\n",
              "      <td>Fiat X1-9</td>\n",
              "      <td>27.3</td>\n",
              "      <td>4</td>\n",
              "      <td>79.0</td>\n",
              "      <td>66</td>\n",
              "      <td>4.08</td>\n",
              "      <td>1.935</td>\n",
              "      <td>18.90</td>\n",
              "      <td>1</td>\n",
              "      <td>1</td>\n",
              "      <td>4</td>\n",
              "      <td>1</td>\n",
              "    </tr>\n",
              "    <tr>\n",
              "      <th>26</th>\n",
              "      <td>Porsche 914-2</td>\n",
              "      <td>26.0</td>\n",
              "      <td>4</td>\n",
              "      <td>120.3</td>\n",
              "      <td>91</td>\n",
              "      <td>4.43</td>\n",
              "      <td>2.140</td>\n",
              "      <td>16.70</td>\n",
              "      <td>0</td>\n",
              "      <td>1</td>\n",
              "      <td>5</td>\n",
              "      <td>2</td>\n",
              "    </tr>\n",
              "    <tr>\n",
              "      <th>27</th>\n",
              "      <td>Lotus Europa</td>\n",
              "      <td>30.4</td>\n",
              "      <td>4</td>\n",
              "      <td>95.1</td>\n",
              "      <td>113</td>\n",
              "      <td>3.77</td>\n",
              "      <td>1.513</td>\n",
              "      <td>16.90</td>\n",
              "      <td>1</td>\n",
              "      <td>1</td>\n",
              "      <td>5</td>\n",
              "      <td>2</td>\n",
              "    </tr>\n",
              "    <tr>\n",
              "      <th>28</th>\n",
              "      <td>Ford Pantera L</td>\n",
              "      <td>15.8</td>\n",
              "      <td>8</td>\n",
              "      <td>351.0</td>\n",
              "      <td>264</td>\n",
              "      <td>4.22</td>\n",
              "      <td>3.170</td>\n",
              "      <td>14.50</td>\n",
              "      <td>0</td>\n",
              "      <td>1</td>\n",
              "      <td>5</td>\n",
              "      <td>4</td>\n",
              "    </tr>\n",
              "    <tr>\n",
              "      <th>29</th>\n",
              "      <td>Ferrari Dino</td>\n",
              "      <td>19.7</td>\n",
              "      <td>6</td>\n",
              "      <td>145.0</td>\n",
              "      <td>175</td>\n",
              "      <td>3.62</td>\n",
              "      <td>2.770</td>\n",
              "      <td>15.50</td>\n",
              "      <td>0</td>\n",
              "      <td>1</td>\n",
              "      <td>5</td>\n",
              "      <td>6</td>\n",
              "    </tr>\n",
              "    <tr>\n",
              "      <th>30</th>\n",
              "      <td>Maserati Bora</td>\n",
              "      <td>15.0</td>\n",
              "      <td>8</td>\n",
              "      <td>301.0</td>\n",
              "      <td>335</td>\n",
              "      <td>3.54</td>\n",
              "      <td>3.570</td>\n",
              "      <td>14.60</td>\n",
              "      <td>0</td>\n",
              "      <td>1</td>\n",
              "      <td>5</td>\n",
              "      <td>8</td>\n",
              "    </tr>\n",
              "    <tr>\n",
              "      <th>31</th>\n",
              "      <td>Volvo 142E</td>\n",
              "      <td>21.4</td>\n",
              "      <td>4</td>\n",
              "      <td>121.0</td>\n",
              "      <td>109</td>\n",
              "      <td>4.11</td>\n",
              "      <td>2.780</td>\n",
              "      <td>18.60</td>\n",
              "      <td>1</td>\n",
              "      <td>1</td>\n",
              "      <td>4</td>\n",
              "      <td>2</td>\n",
              "    </tr>\n",
              "  </tbody>\n",
              "</table>\n",
              "</div>\n",
              "    <div class=\"colab-df-buttons\">\n",
              "\n",
              "  <div class=\"colab-df-container\">\n",
              "    <button class=\"colab-df-convert\" onclick=\"convertToInteractive('df-ab9c7d85-0f15-4c7e-99bf-efa9540647d6')\"\n",
              "            title=\"Convert this dataframe to an interactive table.\"\n",
              "            style=\"display:none;\">\n",
              "\n",
              "  <svg xmlns=\"http://www.w3.org/2000/svg\" height=\"24px\" viewBox=\"0 -960 960 960\">\n",
              "    <path d=\"M120-120v-720h720v720H120Zm60-500h600v-160H180v160Zm220 220h160v-160H400v160Zm0 220h160v-160H400v160ZM180-400h160v-160H180v160Zm440 0h160v-160H620v160ZM180-180h160v-160H180v160Zm440 0h160v-160H620v160Z\"/>\n",
              "  </svg>\n",
              "    </button>\n",
              "\n",
              "  <style>\n",
              "    .colab-df-container {\n",
              "      display:flex;\n",
              "      gap: 12px;\n",
              "    }\n",
              "\n",
              "    .colab-df-convert {\n",
              "      background-color: #E8F0FE;\n",
              "      border: none;\n",
              "      border-radius: 50%;\n",
              "      cursor: pointer;\n",
              "      display: none;\n",
              "      fill: #1967D2;\n",
              "      height: 32px;\n",
              "      padding: 0 0 0 0;\n",
              "      width: 32px;\n",
              "    }\n",
              "\n",
              "    .colab-df-convert:hover {\n",
              "      background-color: #E2EBFA;\n",
              "      box-shadow: 0px 1px 2px rgba(60, 64, 67, 0.3), 0px 1px 3px 1px rgba(60, 64, 67, 0.15);\n",
              "      fill: #174EA6;\n",
              "    }\n",
              "\n",
              "    .colab-df-buttons div {\n",
              "      margin-bottom: 4px;\n",
              "    }\n",
              "\n",
              "    [theme=dark] .colab-df-convert {\n",
              "      background-color: #3B4455;\n",
              "      fill: #D2E3FC;\n",
              "    }\n",
              "\n",
              "    [theme=dark] .colab-df-convert:hover {\n",
              "      background-color: #434B5C;\n",
              "      box-shadow: 0px 1px 3px 1px rgba(0, 0, 0, 0.15);\n",
              "      filter: drop-shadow(0px 1px 2px rgba(0, 0, 0, 0.3));\n",
              "      fill: #FFFFFF;\n",
              "    }\n",
              "  </style>\n",
              "\n",
              "    <script>\n",
              "      const buttonEl =\n",
              "        document.querySelector('#df-ab9c7d85-0f15-4c7e-99bf-efa9540647d6 button.colab-df-convert');\n",
              "      buttonEl.style.display =\n",
              "        google.colab.kernel.accessAllowed ? 'block' : 'none';\n",
              "\n",
              "      async function convertToInteractive(key) {\n",
              "        const element = document.querySelector('#df-ab9c7d85-0f15-4c7e-99bf-efa9540647d6');\n",
              "        const dataTable =\n",
              "          await google.colab.kernel.invokeFunction('convertToInteractive',\n",
              "                                                    [key], {});\n",
              "        if (!dataTable) return;\n",
              "\n",
              "        const docLinkHtml = 'Like what you see? Visit the ' +\n",
              "          '<a target=\"_blank\" href=https://colab.research.google.com/notebooks/data_table.ipynb>data table notebook</a>'\n",
              "          + ' to learn more about interactive tables.';\n",
              "        element.innerHTML = '';\n",
              "        dataTable['output_type'] = 'display_data';\n",
              "        await google.colab.output.renderOutput(dataTable, element);\n",
              "        const docLink = document.createElement('div');\n",
              "        docLink.innerHTML = docLinkHtml;\n",
              "        element.appendChild(docLink);\n",
              "      }\n",
              "    </script>\n",
              "  </div>\n",
              "\n",
              "\n",
              "<div id=\"df-d4e6acdc-8f54-427d-b541-486c068b7b50\">\n",
              "  <button class=\"colab-df-quickchart\" onclick=\"quickchart('df-d4e6acdc-8f54-427d-b541-486c068b7b50')\"\n",
              "            title=\"Suggest charts\"\n",
              "            style=\"display:none;\">\n",
              "\n",
              "<svg xmlns=\"http://www.w3.org/2000/svg\" height=\"24px\"viewBox=\"0 0 24 24\"\n",
              "     width=\"24px\">\n",
              "    <g>\n",
              "        <path d=\"M19 3H5c-1.1 0-2 .9-2 2v14c0 1.1.9 2 2 2h14c1.1 0 2-.9 2-2V5c0-1.1-.9-2-2-2zM9 17H7v-7h2v7zm4 0h-2V7h2v10zm4 0h-2v-4h2v4z\"/>\n",
              "    </g>\n",
              "</svg>\n",
              "  </button>\n",
              "\n",
              "<style>\n",
              "  .colab-df-quickchart {\n",
              "      --bg-color: #E8F0FE;\n",
              "      --fill-color: #1967D2;\n",
              "      --hover-bg-color: #E2EBFA;\n",
              "      --hover-fill-color: #174EA6;\n",
              "      --disabled-fill-color: #AAA;\n",
              "      --disabled-bg-color: #DDD;\n",
              "  }\n",
              "\n",
              "  [theme=dark] .colab-df-quickchart {\n",
              "      --bg-color: #3B4455;\n",
              "      --fill-color: #D2E3FC;\n",
              "      --hover-bg-color: #434B5C;\n",
              "      --hover-fill-color: #FFFFFF;\n",
              "      --disabled-bg-color: #3B4455;\n",
              "      --disabled-fill-color: #666;\n",
              "  }\n",
              "\n",
              "  .colab-df-quickchart {\n",
              "    background-color: var(--bg-color);\n",
              "    border: none;\n",
              "    border-radius: 50%;\n",
              "    cursor: pointer;\n",
              "    display: none;\n",
              "    fill: var(--fill-color);\n",
              "    height: 32px;\n",
              "    padding: 0;\n",
              "    width: 32px;\n",
              "  }\n",
              "\n",
              "  .colab-df-quickchart:hover {\n",
              "    background-color: var(--hover-bg-color);\n",
              "    box-shadow: 0 1px 2px rgba(60, 64, 67, 0.3), 0 1px 3px 1px rgba(60, 64, 67, 0.15);\n",
              "    fill: var(--button-hover-fill-color);\n",
              "  }\n",
              "\n",
              "  .colab-df-quickchart-complete:disabled,\n",
              "  .colab-df-quickchart-complete:disabled:hover {\n",
              "    background-color: var(--disabled-bg-color);\n",
              "    fill: var(--disabled-fill-color);\n",
              "    box-shadow: none;\n",
              "  }\n",
              "\n",
              "  .colab-df-spinner {\n",
              "    border: 2px solid var(--fill-color);\n",
              "    border-color: transparent;\n",
              "    border-bottom-color: var(--fill-color);\n",
              "    animation:\n",
              "      spin 1s steps(1) infinite;\n",
              "  }\n",
              "\n",
              "  @keyframes spin {\n",
              "    0% {\n",
              "      border-color: transparent;\n",
              "      border-bottom-color: var(--fill-color);\n",
              "      border-left-color: var(--fill-color);\n",
              "    }\n",
              "    20% {\n",
              "      border-color: transparent;\n",
              "      border-left-color: var(--fill-color);\n",
              "      border-top-color: var(--fill-color);\n",
              "    }\n",
              "    30% {\n",
              "      border-color: transparent;\n",
              "      border-left-color: var(--fill-color);\n",
              "      border-top-color: var(--fill-color);\n",
              "      border-right-color: var(--fill-color);\n",
              "    }\n",
              "    40% {\n",
              "      border-color: transparent;\n",
              "      border-right-color: var(--fill-color);\n",
              "      border-top-color: var(--fill-color);\n",
              "    }\n",
              "    60% {\n",
              "      border-color: transparent;\n",
              "      border-right-color: var(--fill-color);\n",
              "    }\n",
              "    80% {\n",
              "      border-color: transparent;\n",
              "      border-right-color: var(--fill-color);\n",
              "      border-bottom-color: var(--fill-color);\n",
              "    }\n",
              "    90% {\n",
              "      border-color: transparent;\n",
              "      border-bottom-color: var(--fill-color);\n",
              "    }\n",
              "  }\n",
              "</style>\n",
              "\n",
              "  <script>\n",
              "    async function quickchart(key) {\n",
              "      const quickchartButtonEl =\n",
              "        document.querySelector('#' + key + ' button');\n",
              "      quickchartButtonEl.disabled = true;  // To prevent multiple clicks.\n",
              "      quickchartButtonEl.classList.add('colab-df-spinner');\n",
              "      try {\n",
              "        const charts = await google.colab.kernel.invokeFunction(\n",
              "            'suggestCharts', [key], {});\n",
              "      } catch (error) {\n",
              "        console.error('Error during call to suggestCharts:', error);\n",
              "      }\n",
              "      quickchartButtonEl.classList.remove('colab-df-spinner');\n",
              "      quickchartButtonEl.classList.add('colab-df-quickchart-complete');\n",
              "    }\n",
              "    (() => {\n",
              "      let quickchartButtonEl =\n",
              "        document.querySelector('#df-d4e6acdc-8f54-427d-b541-486c068b7b50 button');\n",
              "      quickchartButtonEl.style.display =\n",
              "        google.colab.kernel.accessAllowed ? 'block' : 'none';\n",
              "    })();\n",
              "  </script>\n",
              "</div>\n",
              "    </div>\n",
              "  </div>\n"
            ],
            "application/vnd.google.colaboratory.intrinsic+json": {
              "type": "dataframe",
              "variable_name": "dados",
              "summary": "{\n  \"name\": \"dados\",\n  \"rows\": 32,\n  \"fields\": [\n    {\n      \"column\": \"car\",\n      \"properties\": {\n        \"dtype\": \"string\",\n        \"num_unique_values\": 32,\n        \"samples\": [\n          \"Ferrari Dino\",\n          \"Lincoln Continental\",\n          \"Pontiac Firebird\"\n        ],\n        \"semantic_type\": \"\",\n        \"description\": \"\"\n      }\n    },\n    {\n      \"column\": \"mpg\",\n      \"properties\": {\n        \"dtype\": \"number\",\n        \"std\": 6.026948052089104,\n        \"min\": 10.4,\n        \"max\": 33.9,\n        \"num_unique_values\": 25,\n        \"samples\": [\n          17.8,\n          33.9,\n          21.0\n        ],\n        \"semantic_type\": \"\",\n        \"description\": \"\"\n      }\n    },\n    {\n      \"column\": \"cyl\",\n      \"properties\": {\n        \"dtype\": \"number\",\n        \"std\": 1,\n        \"min\": 4,\n        \"max\": 8,\n        \"num_unique_values\": 3,\n        \"samples\": [\n          6,\n          4,\n          8\n        ],\n        \"semantic_type\": \"\",\n        \"description\": \"\"\n      }\n    },\n    {\n      \"column\": \"disp\",\n      \"properties\": {\n        \"dtype\": \"number\",\n        \"std\": 123.93869383138194,\n        \"min\": 71.1,\n        \"max\": 472.0,\n        \"num_unique_values\": 27,\n        \"samples\": [\n          275.8,\n          75.7,\n          472.0\n        ],\n        \"semantic_type\": \"\",\n        \"description\": \"\"\n      }\n    },\n    {\n      \"column\": \"hp\",\n      \"properties\": {\n        \"dtype\": \"number\",\n        \"std\": 68,\n        \"min\": 52,\n        \"max\": 335,\n        \"num_unique_values\": 22,\n        \"samples\": [\n          110,\n          52,\n          180\n        ],\n        \"semantic_type\": \"\",\n        \"description\": \"\"\n      }\n    },\n    {\n      \"column\": \"drat\",\n      \"properties\": {\n        \"dtype\": \"number\",\n        \"std\": 0.5346787360709715,\n        \"min\": 2.76,\n        \"max\": 4.93,\n        \"num_unique_values\": 22,\n        \"samples\": [\n          3.9,\n          4.93,\n          3.07\n        ],\n        \"semantic_type\": \"\",\n        \"description\": \"\"\n      }\n    },\n    {\n      \"column\": \"wt\",\n      \"properties\": {\n        \"dtype\": \"number\",\n        \"std\": 0.9784574429896966,\n        \"min\": 1.513,\n        \"max\": 5.424,\n        \"num_unique_values\": 29,\n        \"samples\": [\n          2.77,\n          1.615,\n          5.25\n        ],\n        \"semantic_type\": \"\",\n        \"description\": \"\"\n      }\n    },\n    {\n      \"column\": \"qsec\",\n      \"properties\": {\n        \"dtype\": \"number\",\n        \"std\": 1.7869432360968431,\n        \"min\": 14.5,\n        \"max\": 22.9,\n        \"num_unique_values\": 30,\n        \"samples\": [\n          15.5,\n          17.42,\n          17.05\n        ],\n        \"semantic_type\": \"\",\n        \"description\": \"\"\n      }\n    },\n    {\n      \"column\": \"vs\",\n      \"properties\": {\n        \"dtype\": \"number\",\n        \"std\": 0,\n        \"min\": 0,\n        \"max\": 1,\n        \"num_unique_values\": 2,\n        \"samples\": [\n          1,\n          0\n        ],\n        \"semantic_type\": \"\",\n        \"description\": \"\"\n      }\n    },\n    {\n      \"column\": \"am\",\n      \"properties\": {\n        \"dtype\": \"number\",\n        \"std\": 0,\n        \"min\": 0,\n        \"max\": 1,\n        \"num_unique_values\": 2,\n        \"samples\": [\n          0,\n          1\n        ],\n        \"semantic_type\": \"\",\n        \"description\": \"\"\n      }\n    },\n    {\n      \"column\": \"gear\",\n      \"properties\": {\n        \"dtype\": \"number\",\n        \"std\": 0,\n        \"min\": 3,\n        \"max\": 5,\n        \"num_unique_values\": 3,\n        \"samples\": [\n          4,\n          3\n        ],\n        \"semantic_type\": \"\",\n        \"description\": \"\"\n      }\n    },\n    {\n      \"column\": \"carb\",\n      \"properties\": {\n        \"dtype\": \"number\",\n        \"std\": 1,\n        \"min\": 1,\n        \"max\": 8,\n        \"num_unique_values\": 6,\n        \"samples\": [\n          4,\n          1\n        ],\n        \"semantic_type\": \"\",\n        \"description\": \"\"\n      }\n    }\n  ]\n}"
            }
          },
          "metadata": {},
          "execution_count": 28
        }
      ]
    },
    {
      "cell_type": "markdown",
      "source": [
        "- cyl = Número de cilindos (do inglês Number of cylinders);\n",
        "\n",
        "- disp = Deslocamento do motor (cu.in.)(do inglês Displacement);\n",
        "\n",
        "- hp = Cavalos de potência (do inglês Gross horsepower);\n",
        "\n",
        "- drat = Razão do eixo traseiro (do inglês Rear axle ratio);\n",
        "\n",
        "- wt = Peso (1000 lbs)(do inglês Weight);\n",
        "\n",
        "- qsec = Tempo para percorrer 1/4 de uma milha (do inglês 1/4 mile time);\n",
        "\n",
        "- vs = Motor (0 = V-shaped, 1 = straight)(do ingês Engine);\n",
        "\n",
        "- am = Transmissão (0 = automatic, 1 = manual)(do inglês Transmission);\n",
        "\n",
        "- gear = Número de eixos dianteiros (do inglês Number of forward gears);\n",
        "\n",
        "- carb = Número de carburadores (do inglês Number of carburetors)."
      ],
      "metadata": {
        "id": "EK6s5TrKkPAT"
      }
    },
    {
      "cell_type": "code",
      "source": [
        "x = dados[['wt']]\n",
        "y = dados['mpg']"
      ],
      "metadata": {
        "id": "TYUhKuuNfoxX"
      },
      "execution_count": null,
      "outputs": []
    },
    {
      "cell_type": "code",
      "source": [
        "regr = LinearRegression()"
      ],
      "metadata": {
        "id": "Jo_5V4Cmfsw1"
      },
      "execution_count": null,
      "outputs": []
    },
    {
      "cell_type": "code",
      "source": [
        "regr.fit(x, y)"
      ],
      "metadata": {
        "colab": {
          "base_uri": "https://localhost:8080/",
          "height": 75
        },
        "id": "6HJfBHinfssV",
        "outputId": "2a79a8e2-c631-4649-9b4e-6709607bfa84"
      },
      "execution_count": null,
      "outputs": [
        {
          "output_type": "execute_result",
          "data": {
            "text/plain": [
              "LinearRegression()"
            ],
            "text/html": [
              "<style>#sk-container-id-2 {color: black;background-color: white;}#sk-container-id-2 pre{padding: 0;}#sk-container-id-2 div.sk-toggleable {background-color: white;}#sk-container-id-2 label.sk-toggleable__label {cursor: pointer;display: block;width: 100%;margin-bottom: 0;padding: 0.3em;box-sizing: border-box;text-align: center;}#sk-container-id-2 label.sk-toggleable__label-arrow:before {content: \"▸\";float: left;margin-right: 0.25em;color: #696969;}#sk-container-id-2 label.sk-toggleable__label-arrow:hover:before {color: black;}#sk-container-id-2 div.sk-estimator:hover label.sk-toggleable__label-arrow:before {color: black;}#sk-container-id-2 div.sk-toggleable__content {max-height: 0;max-width: 0;overflow: hidden;text-align: left;background-color: #f0f8ff;}#sk-container-id-2 div.sk-toggleable__content pre {margin: 0.2em;color: black;border-radius: 0.25em;background-color: #f0f8ff;}#sk-container-id-2 input.sk-toggleable__control:checked~div.sk-toggleable__content {max-height: 200px;max-width: 100%;overflow: auto;}#sk-container-id-2 input.sk-toggleable__control:checked~label.sk-toggleable__label-arrow:before {content: \"▾\";}#sk-container-id-2 div.sk-estimator input.sk-toggleable__control:checked~label.sk-toggleable__label {background-color: #d4ebff;}#sk-container-id-2 div.sk-label input.sk-toggleable__control:checked~label.sk-toggleable__label {background-color: #d4ebff;}#sk-container-id-2 input.sk-hidden--visually {border: 0;clip: rect(1px 1px 1px 1px);clip: rect(1px, 1px, 1px, 1px);height: 1px;margin: -1px;overflow: hidden;padding: 0;position: absolute;width: 1px;}#sk-container-id-2 div.sk-estimator {font-family: monospace;background-color: #f0f8ff;border: 1px dotted black;border-radius: 0.25em;box-sizing: border-box;margin-bottom: 0.5em;}#sk-container-id-2 div.sk-estimator:hover {background-color: #d4ebff;}#sk-container-id-2 div.sk-parallel-item::after {content: \"\";width: 100%;border-bottom: 1px solid gray;flex-grow: 1;}#sk-container-id-2 div.sk-label:hover label.sk-toggleable__label {background-color: #d4ebff;}#sk-container-id-2 div.sk-serial::before {content: \"\";position: absolute;border-left: 1px solid gray;box-sizing: border-box;top: 0;bottom: 0;left: 50%;z-index: 0;}#sk-container-id-2 div.sk-serial {display: flex;flex-direction: column;align-items: center;background-color: white;padding-right: 0.2em;padding-left: 0.2em;position: relative;}#sk-container-id-2 div.sk-item {position: relative;z-index: 1;}#sk-container-id-2 div.sk-parallel {display: flex;align-items: stretch;justify-content: center;background-color: white;position: relative;}#sk-container-id-2 div.sk-item::before, #sk-container-id-2 div.sk-parallel-item::before {content: \"\";position: absolute;border-left: 1px solid gray;box-sizing: border-box;top: 0;bottom: 0;left: 50%;z-index: -1;}#sk-container-id-2 div.sk-parallel-item {display: flex;flex-direction: column;z-index: 1;position: relative;background-color: white;}#sk-container-id-2 div.sk-parallel-item:first-child::after {align-self: flex-end;width: 50%;}#sk-container-id-2 div.sk-parallel-item:last-child::after {align-self: flex-start;width: 50%;}#sk-container-id-2 div.sk-parallel-item:only-child::after {width: 0;}#sk-container-id-2 div.sk-dashed-wrapped {border: 1px dashed gray;margin: 0 0.4em 0.5em 0.4em;box-sizing: border-box;padding-bottom: 0.4em;background-color: white;}#sk-container-id-2 div.sk-label label {font-family: monospace;font-weight: bold;display: inline-block;line-height: 1.2em;}#sk-container-id-2 div.sk-label-container {text-align: center;}#sk-container-id-2 div.sk-container {/* jupyter's `normalize.less` sets `[hidden] { display: none; }` but bootstrap.min.css set `[hidden] { display: none !important; }` so we also need the `!important` here to be able to override the default hidden behavior on the sphinx rendered scikit-learn.org. See: https://github.com/scikit-learn/scikit-learn/issues/21755 */display: inline-block !important;position: relative;}#sk-container-id-2 div.sk-text-repr-fallback {display: none;}</style><div id=\"sk-container-id-2\" class=\"sk-top-container\"><div class=\"sk-text-repr-fallback\"><pre>LinearRegression()</pre><b>In a Jupyter environment, please rerun this cell to show the HTML representation or trust the notebook. <br />On GitHub, the HTML representation is unable to render, please try loading this page with nbviewer.org.</b></div><div class=\"sk-container\" hidden><div class=\"sk-item\"><div class=\"sk-estimator sk-toggleable\"><input class=\"sk-toggleable__control sk-hidden--visually\" id=\"sk-estimator-id-2\" type=\"checkbox\" checked><label for=\"sk-estimator-id-2\" class=\"sk-toggleable__label sk-toggleable__label-arrow\">LinearRegression</label><div class=\"sk-toggleable__content\"><pre>LinearRegression()</pre></div></div></div></div></div>"
            ]
          },
          "metadata": {},
          "execution_count": 31
        }
      ]
    },
    {
      "cell_type": "code",
      "source": [
        "b0 = regr.intercept_\n",
        "b1 = regr.coef_[0]"
      ],
      "metadata": {
        "id": "2Z5HleSvl4E6"
      },
      "execution_count": null,
      "outputs": []
    },
    {
      "cell_type": "code",
      "source": [
        "print(f\"LinearRegression()\")\n",
        "print(f\"b0: {np.round(b0, 4)} \\nb1: {np.round(b1, 4)}\")"
      ],
      "metadata": {
        "colab": {
          "base_uri": "https://localhost:8080/"
        },
        "id": "KsjudwBBg0qY",
        "outputId": "89a17ebb-5bd6-495e-9c01-acde23ee1ba3"
      },
      "execution_count": null,
      "outputs": [
        {
          "output_type": "stream",
          "name": "stdout",
          "text": [
            "LinearRegression()\n",
            "b0: 37.2851 \n",
            "b1: -5.3445\n"
          ]
        }
      ]
    },
    {
      "cell_type": "markdown",
      "source": [
        "##Regressão Linear Simples"
      ],
      "metadata": {
        "id": "llV1Qfwk_n-5"
      }
    },
    {
      "cell_type": "code",
      "source": [
        "def beta_zero(x, y, b1):\n",
        "  x_barra = np.mean(x)\n",
        "  y_barra = np.mean(y)\n",
        "  b0 = y_barra - b1* x_barra\n",
        "  return b0"
      ],
      "metadata": {
        "id": "uZRRrlJ6o6G7"
      },
      "execution_count": null,
      "outputs": []
    },
    {
      "cell_type": "markdown",
      "source": [
        "![wqq.png](data:image/png;base64,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)"
      ],
      "metadata": {
        "id": "_y-rM4FH3hdN"
      }
    },
    {
      "cell_type": "code",
      "source": [
        "def beta_um(x, y):\n",
        "  x_barra = np.mean(x)\n",
        "  y_barra = np.mean(y)\n",
        "\n",
        "  b1_cima = ((x - x_barra) * (y - y_barra)).sum()\n",
        "  b1_baixo = ((x - x_barra)**2).sum()\n",
        "  b1 = b1_cima / b1_baixo\n",
        "\n",
        "  return b1"
      ],
      "metadata": {
        "id": "k43FbylQ40T9"
      },
      "execution_count": null,
      "outputs": []
    },
    {
      "cell_type": "markdown",
      "source": [
        "![asa.png](data:image/png;base64,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)"
      ],
      "metadata": {
        "id": "VxZM-RcU4URy"
      }
    },
    {
      "cell_type": "code",
      "source": [
        "#definindo x e y\n",
        "x_ = dados['wt']\n",
        "y_ = dados['mpg']"
      ],
      "metadata": {
        "id": "uGVrMpGY5sO-"
      },
      "execution_count": null,
      "outputs": []
    },
    {
      "cell_type": "code",
      "source": [
        "b1_ = beta_um(x_, y_)\n",
        "b0_ = beta_zero(x_, y_, b1 = b1_)"
      ],
      "metadata": {
        "id": "_K8JQyRc6KyO"
      },
      "execution_count": null,
      "outputs": []
    },
    {
      "cell_type": "code",
      "source": [
        "print(f\"LinearRegression()\")\n",
        "print(f\"b0: {np.round(b0, 4)} \\nb1: {np.round(b1, 4)}\")\n",
        "\n",
        "print(f\"Nossos betas\")\n",
        "print(f\"b0: {np.round(b0_, 4)} \\nb1: {np.round(b1_, 4)}\")"
      ],
      "metadata": {
        "colab": {
          "base_uri": "https://localhost:8080/"
        },
        "id": "O-UShIyC6dqP",
        "outputId": "289ec415-e6a5-4e17-c17f-f075c90c2768"
      },
      "execution_count": null,
      "outputs": [
        {
          "output_type": "stream",
          "name": "stdout",
          "text": [
            "LinearRegression()\n",
            "b0: 37.2851 \n",
            "b1: -5.3445\n",
            "Nossos betas\n",
            "b0: 37.2851 \n",
            "b1: -5.3445\n"
          ]
        }
      ]
    },
    {
      "cell_type": "markdown",
      "source": [
        "## Matricialmente"
      ],
      "metadata": {
        "id": "vFdGAd3UxfWx"
      }
    },
    {
      "cell_type": "code",
      "source": [
        "n_linhas = dados.shape[0]\n",
        "col_1 = np.ones(n_linhas)"
      ],
      "metadata": {
        "id": "-gvVJpFGxsmt"
      },
      "execution_count": null,
      "outputs": []
    },
    {
      "cell_type": "code",
      "source": [
        "peso = dados['wt']"
      ],
      "metadata": {
        "id": "FIfY4QFfo_WA"
      },
      "execution_count": null,
      "outputs": []
    },
    {
      "cell_type": "markdown",
      "source": [
        "![wewe.png](data:image/png;base64,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)"
      ],
      "metadata": {
        "id": "ABH1fjKYzziN"
      }
    },
    {
      "cell_type": "code",
      "source": [
        "def matriz_x(colunas,dados):\n",
        "  n_ = dados.shape[0]\n",
        "  col_1 = np.ones(n_linhas)\n",
        "  col_var = dados[colunas]\n",
        "\n",
        "  x_mat = np.c_[col_1, np.array(peso)]\n",
        "  return x_mat"
      ],
      "metadata": {
        "id": "1lsYiGqcyMkX"
      },
      "execution_count": null,
      "outputs": []
    },
    {
      "cell_type": "markdown",
      "source": [
        "![DSD.png](data:image/png;base64,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)"
      ],
      "metadata": {
        "id": "sO-NagTW0mtB"
      }
    },
    {
      "cell_type": "code",
      "source": [
        "from numpy.linalg import inv"
      ],
      "metadata": {
        "id": "vISRYNdfxj_B"
      },
      "execution_count": null,
      "outputs": []
    },
    {
      "cell_type": "code",
      "source": [
        "x_mat = matriz_x(colunas=['wt'], dados = df) #x"
      ],
      "metadata": {
        "id": "eLJ89P17zCP7"
      },
      "execution_count": null,
      "outputs": []
    },
    {
      "cell_type": "code",
      "source": [
        "x_linha = np.transpose(x_mat) #x'\n",
        "xlx = x_linha @ x_mat"
      ],
      "metadata": {
        "id": "shZ-TfJ6z56U"
      },
      "execution_count": null,
      "outputs": []
    },
    {
      "cell_type": "code",
      "source": [
        "beta_mat = inv(xlx) @x_linha @y_\n",
        "beta_mat"
      ],
      "metadata": {
        "colab": {
          "base_uri": "https://localhost:8080/"
        },
        "id": "VmDWQ1NN0bJB",
        "outputId": "3949b38a-e19d-4dc6-abef-09efc06af2ad"
      },
      "execution_count": null,
      "outputs": [
        {
          "output_type": "execute_result",
          "data": {
            "text/plain": [
              "array([37.28512617, -5.34447157])"
            ]
          },
          "metadata": {},
          "execution_count": 45
        }
      ]
    },
    {
      "cell_type": "code",
      "source": [
        "print(f\"Betas Matricialmente\")\n",
        "print(f\"b0: {np.round(beta_mat[0], 4)}\\nb1: {np.round(beta_mat[1], 4)}\")"
      ],
      "metadata": {
        "colab": {
          "base_uri": "https://localhost:8080/"
        },
        "id": "qFJzcHkx1Hdz",
        "outputId": "79f119a4-e5ba-4784-edf0-a136cd3da5a0"
      },
      "execution_count": null,
      "outputs": [
        {
          "output_type": "stream",
          "name": "stdout",
          "text": [
            "Betas Matricialmente\n",
            "b0: 37.2851\n",
            "b1: -5.3445\n"
          ]
        }
      ]
    },
    {
      "cell_type": "markdown",
      "source": [
        "##Decomposição do QR\n",
        "- A decomposição QR é uma técnica importante na álgebra linear que pode ser utilizada para resolver diversos problemas, como sistemas de equações lineares, encontrar os mínimos quadrados de uma matriz, entre outros\n",
        "- Sendo\n",
        "X\n",
        "n\n",
        "×\n",
        "p\n",
        " uma matriz de posto completo (\n",
        "n\n",
        " >\n",
        "p\n",
        ", rank=\n",
        "p\n",
        "), então podemos decompor\n",
        "X\n",
        " em X\n",
        "=\n",
        "Q\n",
        "R\n",
        "\n"
      ],
      "metadata": {
        "id": "EHTkue3Xxjqv"
      }
    },
    {
      "cell_type": "markdown",
      "source": [
        "![Captura de tela 2024-03-20 092411.png](data:image/png;base64,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)"
      ],
      "metadata": {
        "id": "zpuf572K0dRk"
      }
    },
    {
      "cell_type": "code",
      "source": [
        "import pandas as pd\n",
        "import numpy as np\n",
        "from numpy.linalg import inv\n",
        "from scipy.linalg import qr\n",
        "import statsmodels.api as sm"
      ],
      "metadata": {
        "id": "yGicHuNEADUy"
      },
      "execution_count": null,
      "outputs": []
    },
    {
      "cell_type": "code",
      "source": [
        "n_ = dados.shape[0]\n",
        "\n",
        "X = dados[['wt']]\n",
        "X = sm.add_constant(X)\n",
        "y = dados['mpg']\n",
        "\n",
        "model = sm.OLS(y, X).fit()\n",
        "model.params"
      ],
      "metadata": {
        "colab": {
          "base_uri": "https://localhost:8080/"
        },
        "id": "H4iOXKhWAHbh",
        "outputId": "01fb3ed8-bd31-4bc9-a62b-8b426b2390cf"
      },
      "execution_count": null,
      "outputs": [
        {
          "output_type": "execute_result",
          "data": {
            "text/plain": [
              "const    37.285126\n",
              "wt       -5.344472\n",
              "dtype: float64"
            ]
          },
          "metadata": {},
          "execution_count": 48
        }
      ]
    },
    {
      "cell_type": "markdown",
      "source": [
        "- Martricialmente"
      ],
      "metadata": {
        "id": "QH7LcT5jAutZ"
      }
    },
    {
      "cell_type": "code",
      "source": [
        "def matriz_x(colunas, dados):\n",
        "    col_1 = np.ones((n_, 1))\n",
        "    col_var = dados[colunas].values\n",
        "    X_mat = np.hstack((col_1, col_var))\n",
        "    return X_mat\n",
        "\n",
        "X_mat = matriz_x(colunas=['wt'], dados=dados)\n",
        "\n",
        "Xl = X_mat.T\n",
        "Xlx = Xl @ X_mat\n",
        "\n",
        "betas_mat = inv(Xlx) @ Xl @ y\n",
        "betas_mat"
      ],
      "metadata": {
        "colab": {
          "base_uri": "https://localhost:8080/"
        },
        "id": "PWTW_Lc1AQwo",
        "outputId": "5eff527b-539a-46d6-c13f-f017eac15a55"
      },
      "execution_count": null,
      "outputs": [
        {
          "output_type": "execute_result",
          "data": {
            "text/plain": [
              "array([37.28512617, -5.34447157])"
            ]
          },
          "metadata": {},
          "execution_count": 49
        }
      ]
    },
    {
      "cell_type": "markdown",
      "source": [
        "- Decomposição QR"
      ],
      "metadata": {
        "id": "OPfYlFfkAw8B"
      }
    },
    {
      "cell_type": "code",
      "source": [
        "QR = qr(X_mat, mode='economic')\n",
        "Q, R = QR\n",
        "betas_qr = np.linalg.solve(R, Q.T @ y)\n",
        "betas_qr"
      ],
      "metadata": {
        "colab": {
          "base_uri": "https://localhost:8080/"
        },
        "id": "LwzM86DsAzti",
        "outputId": "09af5974-6621-4c5a-f259-e17592a5802b"
      },
      "execution_count": null,
      "outputs": [
        {
          "output_type": "execute_result",
          "data": {
            "text/plain": [
              "array([37.28512617, -5.34447157])"
            ]
          },
          "metadata": {},
          "execution_count": 50
        }
      ]
    }
  ]
}